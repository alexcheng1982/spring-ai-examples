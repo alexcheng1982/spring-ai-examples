{
 "cells": [
  {
   "cell_type": "markdown",
   "id": "78a2884e-30b8-4228-9b8d-36878289873c",
   "metadata": {},
   "source": [
    "# PDF Q&A - Simple RAG (Retrieval-Augmented Generation) System\n",
    "\n",
    "A simple RAG system to provide answers based on a PDF file.\n",
    "\n",
    "## Prerequisites \n",
    "\n",
    "This example requires the following:\n",
    "-  [Chroma](https://docs.trychroma.com/) as the vector database. Install using `pip install chromadb`.\n",
    "-  Ollama to run local models.\n",
    "\n",
    "Models used in this example. Make sure these models are pulled first. You are free to switch to any other models.\n",
    "- Embedding - [bge-large](https://ollama.com/library/bge-large)\n",
    "- Chat generation - [Llama 3.2](https://ollama.com/library/llama3.2)"
   ]
  },
  {
   "cell_type": "code",
   "execution_count": 14,
   "id": "72298c3b-0ede-41e5-a033-6d891878ee0a",
   "metadata": {},
   "outputs": [],
   "source": [
    "@file:Repository(\"https://repo1.maven.org/maven2\")\n",
    "@file:Repository(\"https://repo.spring.io/milestone/\")\n",
    "@file:DependsOn(\"org.springframework.ai:spring-ai-ollama:1.0.0-M2\")\n",
    "@file:DependsOn(\"org.springframework.ai:spring-ai-tika-document-reader:1.0.0-M2\")\n",
    "@file:DependsOn(\"org.springframework.ai:spring-ai-pdf-document-reader:1.0.0-M2\")\n",
    "@file:DependsOn(\"org.springframework.ai:spring-ai-chroma-store:1.0.0-M2\")"
   ]
  },
  {
   "cell_type": "markdown",
   "id": "7650e0ea-0527-45c8-a79e-ce8f0f886501",
   "metadata": {},
   "source": [
    "## Start Chroma server\n",
    "\n",
    "Start the chroma server, the default port is `8000`.\n",
    "\n",
    "You can also start Chroma directly using `chroma run`."
   ]
  },
  {
   "cell_type": "code",
   "execution_count": 36,
   "id": "922c768e-98e4-4f84-95cb-86fa95bb8ef8",
   "metadata": {},
   "outputs": [
    {
     "name": "stdout",
     "output_type": "stream",
     "text": [
      "Chroma server started, db path: C:\\Users\\Alex\\AppData\\Local\\Temp\\chroma2197048964601029228\n"
     ]
    }
   ],
   "source": [
    "// Start Chroma server using Java\n",
    "\n",
    "val dbPath = java.nio.file.Files.createTempDirectory(\"chroma\").toFile()\n",
    "val pb = ProcessBuilder(\"chroma\", \"run\", \"--path\", \"db\")\n",
    "pb.directory(dbPath)\n",
    "pb.start()\n",
    "println(\"Chroma server started, db path: $dbPath\")"
   ]
  },
  {
   "cell_type": "markdown",
   "id": "0ea03865-1d86-4838-9c71-f0c4af3ffcb1",
   "metadata": {},
   "source": [
    "## Load PDF content into Chroma\n",
    "\n",
    "Parse the PDF file and split into chunks, then save to Chroma."
   ]
  },
  {
   "cell_type": "code",
   "execution_count": 11,
   "id": "84540a04-b982-4af2-9826-3b78ad2f8244",
   "metadata": {},
   "outputs": [],
   "source": [
    "import org.springframework.ai.ollama.*\n",
    "import org.springframework.ai.ollama.api.*\n",
    "\n",
    "val embeddingModel = OllamaEmbeddingModel(OllamaApi(), OllamaOptions.create().withModel(\"bge-large\"))"
   ]
  },
  {
   "cell_type": "code",
   "execution_count": 26,
   "id": "1a81700f-0199-4926-b0b1-ee445ae043b6",
   "metadata": {},
   "outputs": [
    {
     "name": "stdout",
     "output_type": "stream",
     "text": [
      "33 docs to store\n",
      "Docs loaded to Chroma\n"
     ]
    }
   ],
   "source": [
    "import java.nio.file.Path\n",
    "import org.springframework.ai.reader.pdf.PagePdfDocumentReader\n",
    "import org.springframework.ai.vectorstore.VectorStore\n",
    "import org.springframework.core.io.FileSystemResource\n",
    "import org.springframework.ai.transformer.splitter.TokenTextSplitter\n",
    "import org.springframework.ai.vectorstore.ChromaVectorStore\n",
    "import org.springframework.ai.chroma.ChromaApi\n",
    "\n",
    "val reader = PagePdfDocumentReader(FileSystemResource(Path.of(\"../\", \"data\", \"Understanding_Climate_Change.pdf\")))\n",
    "val splitter = TokenTextSplitter()\n",
    "val docs = splitter.split(reader.read())\n",
    "println(\"${docs.size} docs to store\")\n",
    "\n",
    "val chromaUrl = \"http://localhost:8000\"\n",
    "val chromaApi = ChromaApi(chromaUrl)\n",
    "val collectionName = \"pdf-qa\"\n",
    "try {\n",
    "    chromaApi.getCollection(collectionName)\n",
    "} catch (e: Exception) {\n",
    "    println(\"Create collection $collectionName\")\n",
    "    chromaApi.createCollection(ChromaApi.CreateCollectionRequest(collectionName))\n",
    "}\n",
    "val chromaVectorStore = ChromaVectorStore(embeddingModel, chromaApi, collectionName, true)\n",
    "chromaVectorStore.afterPropertiesSet()\n",
    "chromaVectorStore.add(docs)\n",
    "println(\"Docs loaded to Chroma\")"
   ]
  },
  {
   "cell_type": "markdown",
   "id": "21c2f23f-e048-406f-b248-2a008ce0d739",
   "metadata": {},
   "source": [
    "## Query\n",
    "\n",
    "Use `QuestionAnswerAdvisor` to implement simple RAG."
   ]
  },
  {
   "cell_type": "code",
   "execution_count": 35,
   "id": "97e38ad4-4cfa-491d-9689-e916e999ad8b",
   "metadata": {},
   "outputs": [
    {
     "name": "stdout",
     "output_type": "stream",
     "text": [
      "The Greenhouse Effect and Climate Change: Understanding the Issues\n",
      "\n",
      "You've been informed about the greenhouse effect and climate change, which are crucial topics for your understanding of our planet's situation.\n",
      "\n",
      "**The Greenhouse Effect**\n",
      "\n",
      "As mentioned in the text, the greenhouse effect is a natural process that occurs when certain gases in the Earth's atmosphere, such as carbon dioxide (CO2), methane (CH4), and nitrous oxide (N2O), trap heat from the sun. This trapping of heat leads to a \"greenhouse effect,\" keeping the planet warm enough to support life.\n",
      "\n",
      "**Human Activities**\n",
      "\n",
      "The main cause of climate change is human activities that release large amounts of CO2 into the atmosphere, primarily through fossil fuel combustion for energy and transportation. The industrial revolution marked the beginning of a significant increase in fossil fuel consumption, which continues to rise today.\n",
      "\n",
      "**Consequences of Climate Change**\n",
      "\n",
      "The consequences of climate change are far-reaching and devastating. Rising global temperatures lead to:\n",
      "\n",
      "1.  **Sea Level Rise**: Melting of glaciers and ice sheets contributes to sea level rise.\n",
      "2.  **Glacial Retreat**: Glaciers around the world are retreating, affecting water supplies for millions of people.\n",
      "3.  **Coastal Erosion**: Increased storm surges and flooding threaten coastal ecosystems and communities.\n",
      "4.  **Extreme Weather Events**: Climate change is linked to an increase in extreme weather events like hurricanes, heatwaves, droughts, and heavy rainfall.\n",
      "\n",
      "**Consequences of Human Actions**\n",
      "\n",
      "To mitigate the effects of climate change, it's essential to reduce greenhouse gas emissions from human activities:\n",
      "\n",
      "1.  **Transition to Renewable Energy**: Shift towards renewable energy sources like solar and wind power.\n",
      "2.  **Increase Energy Efficiency**: Improve insulation, use efficient appliances, and optimize energy usage.\n",
      "3.  **Electrify Transportation**: Promote electric vehicles and public transportation.\n",
      "4.  **Protect and Restore Natural Carbon Sequestration Systems**: Preserving forests, wetlands, and other ecosystems that absorb CO2.\n",
      "\n",
      "**The Future**\n",
      "\n",
      "To avert the worst impacts of climate change, it's crucial to take immediate action:\n",
      "\n",
      "1.  **Implement Climate Policies**: Governments can establish policies to reduce greenhouse gas emissions.\n",
      "2.  **Support Renewable Energy Development**: Encourage investments in renewable energy projects.\n",
      "3.  **Promote Sustainable Land Use**: Implement sustainable agriculture practices and conservation strategies.\n",
      "\n",
      "By understanding the causes, consequences, and actions required to address climate change, we can work together to protect our planet for future generations.\n"
     ]
    }
   ],
   "source": [
    "import org.springframework.ai.chat.client.ChatClient\n",
    "import org.springframework.ai.ollama.OllamaChatModel\n",
    "import org.springframework.ai.ollama.api.OllamaOptions\n",
    "import org.springframework.ai.chat.client.advisor.QuestionAnswerAdvisor\n",
    "import org.springframework.ai.vectorstore.SearchRequest\n",
    "\n",
    "val chatClient = ChatClient.builder(OllamaChatModel(OllamaApi())).build()\n",
    "val options = OllamaOptions.builder().withModel(\"llama3.2:1b\").build()\n",
    "val qaAdvisor = QuestionAnswerAdvisor(chromaVectorStore, SearchRequest.defaults().withTopK(3))\n",
    "val query = \"What is the main cause of climate change?\"\n",
    "val output = chatClient.prompt().user(query).options(options).advisors(qaAdvisor).call().content()\n",
    "println(output)"
   ]
  }
 ],
 "metadata": {
  "kernelspec": {
   "display_name": "Kotlin",
   "language": "kotlin",
   "name": "kotlin"
  },
  "language_info": {
   "codemirror_mode": "text/x-kotlin",
   "file_extension": ".kt",
   "mimetype": "text/x-kotlin",
   "name": "kotlin",
   "nbconvert_exporter": "",
   "pygments_lexer": "kotlin",
   "version": "1.9.23"
  }
 },
 "nbformat": 4,
 "nbformat_minor": 5
}
