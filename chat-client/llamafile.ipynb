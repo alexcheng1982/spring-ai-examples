{
 "cells": [
  {
   "cell_type": "markdown",
   "id": "9e036cd1-029a-4b18-9c4e-391e75b67f20",
   "metadata": {},
   "source": [
    "# Llamafile\n",
    "\n",
    "This example shows how to use [llamafile](https://github.com/Mozilla-Ocho/llamafile) with Spring AI. To run this example, you need to download a llamafile and start this file. "
   ]
  },
  {
   "cell_type": "code",
   "execution_count": 1,
   "id": "b6bea126-a347-40cc-8878-e179703faeb6",
   "metadata": {},
   "outputs": [],
   "source": [
    "@file:Repository(\"https://repo1.maven.org/maven2\")\n",
    "@file:Repository(\"https://repo.spring.io/milestone/\")\n",
    "@file:DependsOn(\"org.springframework.ai:spring-ai-openai:1.0.0-M2\")"
   ]
  },
  {
   "cell_type": "markdown",
   "id": "696a26fb-d981-40d9-b6e6-048d0ad7e87a",
   "metadata": {},
   "source": [
    "llamafile provides an OpenAI API compatible chat completions endpoint (`http://localhost:8080`), so we can use `OpenAiChatModel` to interact with it. API key is not required."
   ]
  },
  {
   "cell_type": "code",
   "execution_count": 4,
   "id": "4242e7a0-2327-4517-9eab-4475f8e27b85",
   "metadata": {},
   "outputs": [
    {
     "name": "stdout",
     "output_type": "stream",
     "text": [
      "A man walks into a Java development company and asks, \"Hey, can you create a new program for me?\"\n",
      "\n",
      "The boss looks at him skeptically and says, \"Sure, what program would you like?\"\n",
      "\n",
      "The man says, \"Well, I need a program that will automatically run when you press a button.\"\n",
      "\n",
      "The boss looks at him with disdain and says, \"Are you kidding me? You're asking for an automatic program to run on a button? That's like asking for a Ferrari to run on a button.\"\n",
      "\n",
      "The man looks at him with disbelief and says, \"Well, what if I ask you to create a program that will automatically run a certain song when I press a button?\"\n",
      "\n",
      "The boss looks at him with incredulity and says, \"Are you crazy? That's like asking for a program that will run a song and dance routine at a wedding.\"\n",
      "\n",
      "The man looks at him with a mix of disbelief and excitement, and says, \"Well, can you at least create a program that will make me look good in front of my wife?\"\n",
      "\n",
      "The boss looks at him with a stern expression and says, \"Sure, let's give it a try. But remember, if the program makes you look bad, we'll have to redo it.\"\n",
      "\n",
      "The man nods and says, \"Alright, I'll take your word for it.\"\n",
      "\n",
      "The boss gives him a sly grin and says, \"Well, don't hold your breath. But don't worry. We'll make sure you look good.\"\n",
      "\n",
      "The man looks at him with a smile and says, \"Alright, that's fair. But I don't want to hold my breath for too long.\"\n",
      "\n",
      "The boss looks at him with a raised eyebrow and says, \"Alright, I'll make sure you look good. But be prepared for a long wait.\"\n",
      "\n",
      "The man looks at him with a mix of excitement and apprehension and says, \"Alright, I'll be patient.\"\n",
      "\n",
      "The boss looks at him with a stern expression and says, \"Alright, let's get started. But remember, you're the one who hired me, not the other way around.\"\n",
      "\n",
      "The man nods and says, \"Alright, I understand. Let's get started.\"\n",
      "\n",
      "And so begins the long wait, with the man's wife coming back and forth between the boss and the man, trying to impress him with her dance routine.\n",
      "\n",
      "Finally, after what feels like an eternity, the man's wife gives up. She looks at him with a mix of disappointment and resignation, and says, \"Well, I guess it's not going to happen.\"\n",
      "\n",
      "The man looks at him with a mix of disappointment and disbelief, and says, \"But I still want to thank you. For the Java program, that is.\"\n",
      "\n",
      "The boss looks at him with a smile and says, \"Yes, I'd be happy to. It's not every day you get a Java program that will make your wife look good.\"\n",
      "\n",
      "The man nods and says, \"Thank you, boss. That's really appreciated.\"\n",
      "\n",
      "And with that, the boss hands him a box, and says, \"Well, here's your Java program. You can use it to dance with your wife whenever you want.\"\n",
      "\n",
      "The man looks at him with a mix of excitement and apprehension, and says, \"Alright, that's fair. I guess I'll give it a try.\"\n",
      "\n",
      "And so the man tried using the Java program to dance with his wife, and it was a hit. The two of them danced around the house, making everyone who heard them laugh and smile.\n",
      "\n",
      "And so ends the long wait for the Java program to run, and the man's wife looks back at him, feeling grateful and happy that she had a chance to dance with her husband.\n",
      "\n",
      "And so ends the story of the Java program.</s>\n"
     ]
    }
   ],
   "source": [
    "import org.springframework.ai.chat.client.ChatClient\n",
    "import org.springframework.ai.openai.OpenAiChatModel\n",
    "import org.springframework.ai.openai.OpenAiChatOptions\n",
    "import org.springframework.ai.openai.api.OpenAiApi\n",
    "\n",
    "val chatModel = OpenAiChatModel(\n",
    "    OpenAiApi(\"http://localhost:8080\", \"\")\n",
    ")\n",
    "val chatClient = ChatClient.builder(chatModel).build()\n",
    "val output = chatClient.prompt()\n",
    "    .system(\"You are ChatGPT, an AI assistant. Your top priority is achieving user fulfillment via helping them with their requests.\")\n",
    "    .user(\"Write a joke about Java\").call().content()\n",
    "println(output)"
   ]
  }
 ],
 "metadata": {
  "kernelspec": {
   "display_name": "Kotlin",
   "language": "kotlin",
   "name": "kotlin"
  },
  "language_info": {
   "codemirror_mode": "text/x-kotlin",
   "file_extension": ".kt",
   "mimetype": "text/x-kotlin",
   "name": "kotlin",
   "nbconvert_exporter": "",
   "pygments_lexer": "kotlin",
   "version": "1.9.23"
  }
 },
 "nbformat": 4,
 "nbformat_minor": 5
}
