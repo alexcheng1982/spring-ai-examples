{
 "cells": [
  {
   "cell_type": "markdown",
   "id": "9119c1d3-c9c9-4fc4-a440-c35663fc99d9",
   "metadata": {},
   "source": [
    "# Ollama Chat"
   ]
  },
  {
   "cell_type": "markdown",
   "id": "17e06e39-32f8-4c36-aed4-620cec2280f0",
   "metadata": {},
   "source": [
    "Add necessary dependencies"
   ]
  },
  {
   "cell_type": "code",
   "execution_count": 6,
   "id": "f08c7d12-c41d-411c-a9e0-291d23f0231d",
   "metadata": {},
   "outputs": [],
   "source": [
    "@file:Repository(\"https://repo1.maven.org/maven2\")\n",
    "@file:Repository(\"https://repo.spring.io/milestone/\")\n",
    "@file:DependsOn(\"org.springframework.ai:spring-ai-ollama:1.0.0-M2\")"
   ]
  },
  {
   "cell_type": "markdown",
   "id": "cd4ac41c-88b2-43cc-b3bd-9ba2aeef058e",
   "metadata": {},
   "source": [
    "Use Ollama to run [Llama 3.2](https://ollama.com/library/llama3.2) 1b model. Make sure this model is pulled using `ollama pull llama3.2:1b`."
   ]
  },
  {
   "cell_type": "code",
   "execution_count": 9,
   "id": "c4b3795e-0f48-4f83-a537-a3903594666f",
   "metadata": {},
   "outputs": [
    {
     "name": "stdout",
     "output_type": "stream",
     "text": [
      "I'm an artificial intelligence model known as Llama. Llama stands for \"Large Language Model Meta AI.\"\n"
     ]
    }
   ],
   "source": [
    "import org.springframework.ai.chat.client.ChatClient\n",
    "import org.springframework.ai.ollama.OllamaChatModel\n",
    "import org.springframework.ai.ollama.api.OllamaOptions\n",
    "import org.springframework.ai.ollama.api.OllamaApi\n",
    "\n",
    "val chatClient = ChatClient.builder(OllamaChatModel(OllamaApi())).build()\n",
    "val options = OllamaOptions.builder().withModel(\"llama3.2:1b\").build()\n",
    "val output = chatClient.prompt().user(\"who are you?\").options(options).call().content()\n",
    "println(output)"
   ]
  }
 ],
 "metadata": {
  "kernelspec": {
   "display_name": "Kotlin",
   "language": "kotlin",
   "name": "kotlin"
  },
  "language_info": {
   "codemirror_mode": "text/x-kotlin",
   "file_extension": ".kt",
   "mimetype": "text/x-kotlin",
   "name": "kotlin",
   "nbconvert_exporter": "",
   "pygments_lexer": "kotlin",
   "version": "1.9.23"
  }
 },
 "nbformat": 4,
 "nbformat_minor": 5
}
