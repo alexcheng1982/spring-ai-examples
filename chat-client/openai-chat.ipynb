{
 "cells": [
  {
   "cell_type": "markdown",
   "id": "6498d2b8-d6f9-4bad-9c6f-8c8151675b02",
   "metadata": {},
   "source": [
    "# OpenAI Chat"
   ]
  },
  {
   "cell_type": "code",
   "execution_count": 1,
   "id": "f0483426-9a2a-4fc1-a184-9ba3343d2bf9",
   "metadata": {},
   "outputs": [],
   "source": [
    "@file:Repository(\"https://repo1.maven.org/maven2\")\n",
    "@file:Repository(\"https://repo.spring.io/milestone/\")\n",
    "@file:DependsOn(\"org.springframework.ai:spring-ai-openai:1.0.0-M2\")"
   ]
  },
  {
   "cell_type": "markdown",
   "id": "abd7647d-c667-4578-9d4d-13730c758958",
   "metadata": {},
   "source": [
    "To run the code below, you need to have your OpenAI API key available in environment variable `OPENAI_API_KEY`."
   ]
  },
  {
   "cell_type": "code",
   "execution_count": 2,
   "id": "c34b42d5-aa83-48c3-b65b-a858ac60c03d",
   "metadata": {},
   "outputs": [
    {
     "name": "stdout",
     "output_type": "stream",
     "text": [
      "I am an AI digital assistant designed to help answer questions and provide information to the best of my abilities.\n"
     ]
    }
   ],
   "source": [
    "import org.springframework.ai.chat.client.ChatClient\n",
    "import org.springframework.ai.openai.OpenAiChatModel\n",
    "import org.springframework.ai.openai.OpenAiChatOptions\n",
    "import org.springframework.ai.openai.api.OpenAiApi\n",
    "\n",
    "val apiKey = System.getenv(\"OPENAI_API_KEY\")\n",
    "val chatModel = OpenAiChatModel(\n",
    "    OpenAiApi(apiKey),\n",
    "    OpenAiChatOptions.builder()\n",
    "        .withModel(OpenAiApi.ChatModel.GPT_3_5_TURBO).build()\n",
    ")\n",
    "val chatClient = ChatClient.builder(chatModel).build()\n",
    "val output = chatClient.prompt().user(\"who are you?\").call().content()\n",
    "println(output)"
   ]
  }
 ],
 "metadata": {
  "kernelspec": {
   "display_name": "Kotlin",
   "language": "kotlin",
   "name": "kotlin"
  },
  "language_info": {
   "codemirror_mode": "text/x-kotlin",
   "file_extension": ".kt",
   "mimetype": "text/x-kotlin",
   "name": "kotlin",
   "nbconvert_exporter": "",
   "pygments_lexer": "kotlin",
   "version": "1.9.23"
  }
 },
 "nbformat": 4,
 "nbformat_minor": 5
}
