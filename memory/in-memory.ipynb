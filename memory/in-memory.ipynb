{
 "cells": [
  {
   "cell_type": "markdown",
   "id": "1ab2a762-6851-4557-bc71-cb7a2d12220f",
   "metadata": {},
   "source": [
    "# In-memory Memory"
   ]
  },
  {
   "cell_type": "code",
   "execution_count": 2,
   "id": "541f91ab-9cdf-4248-8478-3b6b8f55c191",
   "metadata": {},
   "outputs": [],
   "source": [
    "@file:Repository(\"https://repo1.maven.org/maven2\")\n",
    "@file:Repository(\"https://repo.spring.io/milestone/\")\n",
    "@file:DependsOn(\"org.springframework.ai:spring-ai-ollama:1.0.0-M2\")"
   ]
  },
  {
   "cell_type": "markdown",
   "id": "847f981f-a61f-412d-8c18-657757807a40",
   "metadata": {},
   "source": [
    "Use `InMemoryChatMemory`."
   ]
  },
  {
   "cell_type": "code",
   "execution_count": 8,
   "id": "ea7be794-c155-4e3c-b8b1-086d853002f9",
   "metadata": {},
   "outputs": [
    {
     "name": "stdout",
     "output_type": "stream",
     "text": [
      "=== Round 1 ===\n",
      "Hello Alex, how can I assist you today?\n",
      "=== Round 2 ===\n",
      "You're Alex. You initially asked me to keep your identity a secret, which is understandable given that we just started our conversation. Is there something specific you'd like to talk about or ask me?\n"
     ]
    }
   ],
   "source": [
    "import org.springframework.ai.chat.client.ChatClient\n",
    "import org.springframework.ai.ollama.OllamaChatModel\n",
    "import org.springframework.ai.ollama.api.OllamaOptions\n",
    "import org.springframework.ai.ollama.api.OllamaApi\n",
    "import org.springframework.ai.chat.memory.InMemoryChatMemory\n",
    "import org.springframework.ai.chat.client.advisor.MessageChatMemoryAdvisor\n",
    "\n",
    "val memory = InMemoryChatMemory()\n",
    "val memoryAdvisor = MessageChatMemoryAdvisor(memory)\n",
    "val chatClient = ChatClient.builder(OllamaChatModel(OllamaApi())).defaultAdvisors(memoryAdvisor).build()\n",
    "val options = OllamaOptions.builder().withModel(\"llama3.2:1b\").build()\n",
    "val output1 = chatClient.prompt().user(\"hello, I'm Alex\").options(options).call().content()\n",
    "println(\"=== Round 1 ===\")\n",
    "println(output1)\n",
    "println(\"=== Round 2 ===\")\n",
    "val output2 = chatClient.prompt().user(\"who am I?\").options(options).call().content()\n",
    "println(output2)"
   ]
  }
 ],
 "metadata": {
  "kernelspec": {
   "display_name": "Kotlin",
   "language": "kotlin",
   "name": "kotlin"
  },
  "language_info": {
   "codemirror_mode": "text/x-kotlin",
   "file_extension": ".kt",
   "mimetype": "text/x-kotlin",
   "name": "kotlin",
   "nbconvert_exporter": "",
   "pygments_lexer": "kotlin",
   "version": "1.9.23"
  }
 },
 "nbformat": 4,
 "nbformat_minor": 5
}
